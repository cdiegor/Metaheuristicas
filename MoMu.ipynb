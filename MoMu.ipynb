{
  "nbformat": 4,
  "nbformat_minor": 0,
  "metadata": {
    "colab": {
      "provenance": [],
      "authorship_tag": "ABX9TyNQk2Pggwl95N4MjDrWwOdD",
      "include_colab_link": true
    },
    "kernelspec": {
      "name": "python3",
      "display_name": "Python 3"
    },
    "language_info": {
      "name": "python"
    }
  },
  "cells": [
    {
      "cell_type": "markdown",
      "metadata": {
        "id": "view-in-github",
        "colab_type": "text"
      },
      "source": [
        "<a href=\"https://colab.research.google.com/github/cdiegor/Metaheuristicas/blob/main/MoMu.ipynb\" target=\"_parent\"><img src=\"https://colab.research.google.com/assets/colab-badge.svg\" alt=\"Open In Colab\"/></a>"
      ]
    },
    {
      "cell_type": "markdown",
      "source": [
        "#Problema da Mochila Multimodal"
      ],
      "metadata": {
        "id": "S6jZKOV8EaMi"
      }
    },
    {
      "cell_type": "markdown",
      "source": [
        "## Introdução"
      ],
      "metadata": {
        "id": "9QHpsfiJEek4"
      }
    },
    {
      "cell_type": "markdown",
      "source": [
        "## Problema em dois níveis"
      ],
      "metadata": {
        "id": "ZPQA1aJpEgGH"
      }
    },
    {
      "cell_type": "markdown",
      "source": [],
      "metadata": {
        "id": "CMFxmv8aFaSZ"
      }
    },
    {
      "cell_type": "markdown",
      "source": [],
      "metadata": {
        "id": "9_mjYoO1Faae"
      }
    },
    {
      "cell_type": "code",
      "source": [
        "class MoMu:\n",
        "  def __init__(self, n:int, m:int):\n",
        "    self.n = n            # Número de objetos\n",
        "    self.m = m            # Quantidade de modos por objeto\n",
        "    self.valor = [][]     # Valores de cada objeto em cada modo\n",
        "    self.peso = [][]      # Pesos de cada objeto em cada modo\n",
        "    self.capacidade       # Capacidade máxima da mochila\n",
        "\n",
        "    self.modo = [0]*n     # Representação da solução\n",
        "                          # Modo 0 => Peso = 0 e Valor = 0\n",
        "    #self.valorObj = 0\n",
        "\n",
        "  def valorObj(self):     # Valor da função objetivo para os modos escolhidos\n",
        "    val = 0\n",
        "    res = capacidade\n",
        "    for j in range(self.n):\n",
        "      val = val + self.valor[j][ self.modo[j] ]\n",
        "      res = res - self.peso[j][ self.modo[j] ]\n",
        "    if res < 0: val = 0\n",
        "    return val\n",
        "\n",
        "  def residual(self):\n",
        "    res = capacidade\n",
        "    for j in range(self.n):\n",
        "      res = res - self.peso[j][ self.modo[j] ]\n",
        "    return res\n",
        "\n"
      ],
      "metadata": {
        "id": "oFVAb5oEFaou"
      },
      "execution_count": null,
      "outputs": []
    },
    {
      "cell_type": "markdown",
      "source": [
        "## Mochila 0-1 por Colônia de Formigas"
      ],
      "metadata": {
        "id": "sMUq2J_eEqI4"
      }
    },
    {
      "cell_type": "markdown",
      "source": [],
      "metadata": {
        "id": "4-u1AeTFFW6t"
      }
    },
    {
      "cell_type": "markdown",
      "source": [],
      "metadata": {
        "id": "jughpy3aFXH1"
      }
    },
    {
      "cell_type": "code",
      "source": [
        "import random\n",
        "import copy\n",
        "import numpy as np\n",
        "\n",
        "class ACO:\n",
        "\n",
        "  def __init__(self, MM:MoMu, num_formigas:int, num_iter: int):\n",
        "    self.num_formigas = num_formigas\n",
        "    self.num_iter = num_iter\n",
        "    self.pop:MoMu = []*MM\n",
        "    self.feromonio:float = []\n",
        "    self.decaimento:float = 0.9\n",
        "    self.MM = MM\n",
        "\n",
        "\n",
        "  def gerar_populacao(self):\n",
        "    for i in range(self.num_formigas):\n",
        "      ordem = np.argsort(-self.feromonio)\n",
        "      cap = self.pop[i].capacidade\n",
        "      for j in range(self.MM.n):\n",
        "        indice = min( random.geometric(p=0.5), len(ordem)-1 )\n",
        "        escolhido = ordem[indice]\n",
        "        if self.pop[i].peso[escolhido][self.MM.modo[escolhido]] <= cap:\n",
        "          cap = cap - self.pop[i].peso[escolhido][self.MM.modos[escolhido]]\n",
        "        else:\n",
        "          self.pop[i].modo[escolhido] = 0\n",
        "        ordem.remove(escolhido)\n",
        "\n",
        "  def iniciar_feromonios(self):\n",
        "    for j in range(self.MM.n):\n",
        "      self.feromonio[j] = self.MM.valor[j][self.MM.modo[j]] / self.MM.peso[j][self.MM.modo[j]]\n",
        "\n",
        "  def espalhar_feromonio(self, melhor:MoMu):\n",
        "    # Decaimento\n",
        "    self.feromonio = self.feromonio * self.decaimento\n",
        "\n",
        "    # Reforço pela melhor solução\n",
        "    for j in range(self.MM.n):\n",
        "      if melhor.modo[j] > 0:\n",
        "        self.feromonio[j] = self.feromonio[j] + self.MM.valor[j]/self.MM.peso[j]\n",
        "\n",
        "\n",
        "  def rodar(self):\n",
        "    melhor_de_todas = self.MM\n",
        "    self.iniciar_feromonios()\n",
        "    for iter in range(self.num_iter):\n",
        "      self.gerar_populacao()\n",
        "      melhor = max(self.pop, key = lambda x : x.valorObj())\n",
        "      if melhor.valorObj() > melhor_de_todas.valorObj():\n",
        "        melhor_de_todas = melhor\n",
        "\n",
        "      self.espalhar_feromonio(melhor)\n",
        "\n",
        "    return melhor\n"
      ],
      "metadata": {
        "id": "k6hhSNz5FXd2",
        "colab": {
          "base_uri": "https://localhost:8080/",
          "height": 142
        },
        "outputId": "68db71c3-80ce-4e9a-8856-123830672363"
      },
      "execution_count": 1,
      "outputs": [
        {
          "output_type": "error",
          "ename": "SyntaxError",
          "evalue": "ignored",
          "traceback": [
            "\u001b[0;36m  File \u001b[0;32m\"<ipython-input-1-0c62d7928973>\"\u001b[0;36m, line \u001b[0;32m35\u001b[0m\n\u001b[0;31m    for j in range self.MM.n\u001b[0m\n\u001b[0m                   ^\u001b[0m\n\u001b[0;31mSyntaxError\u001b[0m\u001b[0;31m:\u001b[0m invalid syntax\n"
          ]
        }
      ]
    },
    {
      "cell_type": "markdown",
      "source": [
        "## Mochila Multimodal por Religação de Caminhos"
      ],
      "metadata": {
        "id": "P8HULQ0fEv5N"
      }
    },
    {
      "cell_type": "code",
      "execution_count": null,
      "metadata": {
        "id": "-hJM93TSEWki"
      },
      "outputs": [],
      "source": [
        "def busca_local(S: MoMu, k:int):\n",
        "  melhor = copy.deepcopy(S)\n",
        "  cap = melhor.residual()\n",
        "  val = melhor.valorObj()\n",
        "\n",
        "  for j in range(S.n):\n",
        "    if j != k:\n",
        "      for m in range(S.m):\n",
        "        if m != S.modos[j]:\n",
        "          if cap - S.pesos[j][S.modos[j]] + S.pesos[j][m] > 0 and\n",
        "             val - S.valores[j][S.modos[j]] + S.valores[j][m] > melhor.valorObj\n",
        "             melhor = copy.deepcopy(S)\n",
        "             melhor.modos[j] = m\n",
        "  return melhor"
      ]
    },
    {
      "cell_type": "code",
      "source": [
        "def religacao(S:MoMu, R:MoMu):\n",
        "  T = copy.deepcopy(S)\n",
        "  melhor = copy.deepcopy(max([S,R], key = lambda x : x.valorObj))\n",
        "  for j in range(S.MM.n):\n",
        "    if S.modo[j] != R.modo[j]:\n",
        "      T.modo[j] = R.modo[j]\n",
        "      T = busca_local(T, j)\n",
        "      if T.valorObj() > melhor.valorObj():\n",
        "        melhor = copy.deepcopy(T)\n",
        "  return melhor"
      ],
      "metadata": {
        "id": "PPNX3IT4EZGX"
      },
      "execution_count": null,
      "outputs": []
    }
  ]
}