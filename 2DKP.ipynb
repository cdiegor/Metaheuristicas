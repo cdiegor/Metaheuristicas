{
  "nbformat": 4,
  "nbformat_minor": 0,
  "metadata": {
    "colab": {
      "provenance": [],
      "authorship_tag": "ABX9TyN56wueFntumlt/17vDZNhG",
      "include_colab_link": true
    },
    "kernelspec": {
      "name": "python3",
      "display_name": "Python 3"
    },
    "language_info": {
      "name": "python"
    }
  },
  "cells": [
    {
      "cell_type": "markdown",
      "metadata": {
        "id": "view-in-github",
        "colab_type": "text"
      },
      "source": [
        "<a href=\"https://colab.research.google.com/github/cdiegor/Metaheuristicas/blob/main/2DKP.ipynb\" target=\"_parent\"><img src=\"https://colab.research.google.com/assets/colab-badge.svg\" alt=\"Open In Colab\"/></a>"
      ]
    },
    {
      "cell_type": "markdown",
      "source": [
        "# Problema da mochila bidimensional"
      ],
      "metadata": {
        "id": "Ob-szK95uKaz"
      }
    },
    {
      "cell_type": "markdown",
      "source": [
        "![image.png](data:image/png;base64,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)"
      ],
      "metadata": {
        "id": "wjdfVTuyugVZ"
      }
    },
    {
      "cell_type": "markdown",
      "source": [
        "## Introdução"
      ],
      "metadata": {
        "id": "0MqbK0FEuS5D"
      }
    },
    {
      "cell_type": "markdown",
      "source": [
        "No problema da mochila bidimensional temos um conjunto $N = {1, ..., n}$ de objetos com valor $p_i$ e com dimensões $w_i \\times l_i$, $i = 1, ..., n$ que devem ser colocados dentro de uma caixa com dimensões $W \\times L$ sem sobreposição.\n"
      ],
      "metadata": {
        "id": "knSpzpbzvFFO"
      }
    },
    {
      "cell_type": "code",
      "source": [
        "class kp2d:\n",
        "  __init__(self):\n",
        "    self.n: int = 0\n",
        "    self.p: list[int] = []\n",
        "    self.w: list[int] = []\n",
        "    self.l: list[int] = []\n",
        "    self.W: int = 0\n",
        "    self.L: int = 0"
      ],
      "metadata": {
        "id": "3FcH8xaiWiEB"
      },
      "execution_count": null,
      "outputs": []
    },
    {
      "cell_type": "markdown",
      "source": [
        "## Representação"
      ],
      "metadata": {
        "id": "hSWA5wfjuU8L"
      }
    },
    {
      "cell_type": "markdown",
      "source": [
        "Podemos construir uma solução com a localização dos objetos se soubermos as posições relativas entre eles.\n",
        "\n",
        "Para modelar as posições relativas vamos utilizar uma estrutura chamada pares de sequência. Nos pares de sequência temos duas sequências: uma que determina qual objeto antecede o outro e uma segunda que determina se essa precedência é horizontal ou vertical."
      ],
      "metadata": {
        "id": "lhl5l0atSW4g"
      }
    },
    {
      "cell_type": "code",
      "source": [
        "class parseq:\n",
        "  __init__(self, n:int):\n",
        "    self.sa:tuple = (i for i in range(n))\n",
        "    self.sb:tuple = (i for i in range(n))\n",
        ""
      ],
      "metadata": {
        "id": "N-GCqrYVS2m2"
      },
      "execution_count": null,
      "outputs": []
    },
    {
      "cell_type": "code",
      "source": [
        "def disposicao(I:kp2d, P:parseq):\n",
        "  x: list[int] = [0 for i in range(I.n)]\n",
        "  y: list[int] = [0 for i in range(I.n)]\n",
        "  for k in range(I.n):\n",
        "    j = P.sa[k]\n",
        "    for l in range(k):\n",
        "      i = P.sa[l]\n",
        "      if P.sb.index(i) < P.sb.index(j):\n",
        "        #relação vertical\n",
        "        y[j] = max(y[j], y[i]+I.l[i])\n",
        "      else:\n",
        "        #relação horizontal\n",
        "        x[j] = max(x[j], x[i]+I.w[i])\n",
        "  return x, y\n",
        "\n",
        "def solucao(I:kp2d, x:list[int], y:list[int]):\n",
        "  v: int = 0\n",
        "  z: list[int] = [0 for i in range(I.n)]\n",
        "  for k in range(I.n):\n",
        "    if x[k]+I.w[k] < I.W and y[k]+I.l[k] < I.L:\n",
        "      z[k] = 1\n",
        "      v = v+I.p[k]\n",
        "  return z, v\n"
      ],
      "metadata": {
        "id": "1QulWLSdU4cG"
      },
      "execution_count": null,
      "outputs": []
    },
    {
      "cell_type": "markdown",
      "source": [
        "## BRKGA"
      ],
      "metadata": {
        "id": "Wmv7KiYQuaCi"
      }
    },
    {
      "cell_type": "code",
      "source": [
        "def gerar_sequencia(R:list[float]):\n",
        "  A = [ (R[i], i) for i in range(len(R)) ]\n",
        "  A.sort(key= lambda x : x[0])\n",
        "  S = [ A[i][1] for i in range(len(R))]\n",
        "  return S\n",
        "\n",
        "\n",
        "def decodificar(I:kp2d, R:list[float])\n",
        "  P: parseq(len(R)//2)\n",
        "  P.sa = gerar_sequencia(R[:len(R)//2])\n",
        "  P.sb = gerar_sequencia(R[len(R)//2:])\n",
        "  x, y = disposicao(I, P)\n",
        "  z, v = solucao(I, x, y)\n",
        "  return v\n"
      ],
      "metadata": {
        "id": "iBXuc8DIZ6iW"
      },
      "execution_count": null,
      "outputs": []
    },
    {
      "cell_type": "markdown",
      "source": [
        "## Exercícios"
      ],
      "metadata": {
        "id": "en5mSMonuc9Z"
      }
    },
    {
      "cell_type": "code",
      "execution_count": null,
      "metadata": {
        "id": "E2nLwsuIuJag"
      },
      "outputs": [],
      "source": []
    }
  ]
}